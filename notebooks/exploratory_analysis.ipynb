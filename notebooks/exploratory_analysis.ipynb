{
 "cells": [
  {
   "cell_type": "code",
   "execution_count": 4,
   "metadata": {},
   "outputs": [],
   "source": [
    "# # notebooks/exploratory_analysis.ipynb\n",
    "# import pandas as pd\n",
    "# import matplotlib.pyplot as plt\n",
    "# import seaborn as sns\n",
    "# from utils.helpers import load_data_from_db\n",
    "\n",
    "# # Load relevant tables\n",
    "# risk_df = load_data_from_db(\"Risk\")\n",
    "# risk_mitigation_df = load_data_from_db(\"RiskMitigation\")\n",
    "# risk_monitoring_df = load_data_from_db(\"RiskMonitoring\")\n",
    "# department_df = load_data_from_db(\"Department\")\n",
    "# user_df = load_data_from_db(\"User\")\n",
    "# organization_df = load_data_from_db(\"Organization\")\n",
    "\n",
    "# # Display basic info\n",
    "# print(\"Risk Table:\")\n",
    "# print(risk_df.info())\n",
    "# print(risk_df.head())\n",
    "\n",
    "# print(\"\\nRisk Mitigation Table:\")\n",
    "# print(risk_mitigation_df.info())\n",
    "# print(risk_mitigation_df.head())\n",
    "\n",
    "# # Check for missing values\n",
    "# print(\"\\nMissing Values in Risk Table:\")\n",
    "# print(risk_df.isnull().sum())\n",
    "\n",
    "# # Visualize risk scores\n",
    "# plt.figure(figsize=(10, 6))\n",
    "# sns.histplot(risk_df['riskScore'], bins=20, kde=True)\n",
    "# plt.title(\"Distribution of Risk Scores\")\n",
    "# plt.xlabel(\"Risk Score\")\n",
    "# plt.ylabel(\"Frequency\")\n",
    "# # plt.show()\n",
    "\n",
    "# # Correlation matrix for numerical columns\n",
    "# # numerical_cols = risk_df.select_dtypes(include=['int64', 'float64']).columns\n",
    "# # corr_matrix = risk_df[numerical_cols].corr()\n",
    "# # sns.heatmap(corr_matrix, annot=True, cmap=\"coolwarm\")\n",
    "# # plt.title(\"Correlation Matrix for Risk Table\")\n",
    "# # plt.show()"
   ]
  }
 ],
 "metadata": {
  "kernelspec": {
   "display_name": "myenv",
   "language": "python",
   "name": "python3"
  },
  "language_info": {
   "codemirror_mode": {
    "name": "ipython",
    "version": 3
   },
   "file_extension": ".py",
   "mimetype": "text/x-python",
   "name": "python",
   "nbconvert_exporter": "python",
   "pygments_lexer": "ipython3",
   "version": "3.12.1"
  }
 },
 "nbformat": 4,
 "nbformat_minor": 2
}
